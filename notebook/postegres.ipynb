{
 "cells": [
  {
   "cell_type": "markdown",
   "id": "aa290dbb",
   "metadata": {},
   "source": [
    "## Création première Database"
   ]
  },
  {
   "cell_type": "code",
   "execution_count": null,
   "id": "ebe48219",
   "metadata": {},
   "outputs": [
    {
     "name": "stdout",
     "output_type": "stream",
     "text": [
      "Connexion réussie !\n",
      "Version de PostgreSQL : ('PostgreSQL 17.5 (Homebrew) on aarch64-apple-darwin23.6.0, compiled by Apple clang version 16.0.0 (clang-1600.0.26.6), 64-bit',)\n"
     ]
    }
   ],
   "source": [
    "import psycopg2\n",
    "from psycopg2 import sql\n",
    "import pandas as pd\n",
    "\n",
    "\n",
    "df = pd.read_csv(\"../data/strava_activities_clean_.csv\")\n",
    "\n",
    "host = \"localhost\"\n",
    "port = \"5432\"\n",
    "dbname = \"postgres\"\n",
    "user = \"arthurdercq\"\n",
    "password = \"qsdfgqsdfg\"\n",
    "\n",
    "try:\n",
    "    conn = psycopg2.connect(\n",
    "        host=host,\n",
    "        port=port,\n",
    "        dbname=dbname,\n",
    "        user=user,\n",
    "        password=password\n",
    "    )\n",
    "    print(\"Connexion réussie !\")\n",
    "\n",
    "    # Créer un curseur pour exécuter des requêtes\n",
    "    cur = conn.cursor()\n",
    "    cur.execute(\"SELECT version();\")\n",
    "    print(\"Version de PostgreSQL :\", cur.fetchone())\n",
    "\n",
    "    # Fermer le curseur\n",
    "    cur.close()\n",
    "\n",
    "except Exception as e:\n",
    "    print(\"Erreur de connexion :\", e)\n"
   ]
  },
  {
   "cell_type": "code",
   "execution_count": 2,
   "id": "2f1ea921",
   "metadata": {},
   "outputs": [],
   "source": [
    "def store_df_in_postgresql(db_path, host, database, user, password, port):\n",
    "\n",
    "    # Lire le fichier CSV dans un DataFrame pandas\n",
    "    df = pd.read_csv(db_path)\n",
    "\n",
    "    # Connexion à la base de données PostgreSQL\n",
    "    # Remplacez les valeurs par vos informations de connexion PostgreSQL\n",
    "    conn = psycopg2.connect(\n",
    "        host = host,\n",
    "        database = database,\n",
    "        user = user,\n",
    "        password= password,\n",
    "        port = port\n",
    "    )\n",
    "\n",
    "\n",
    "    # Créer un curseur pour exécuter des commandes SQL\n",
    "    cur = conn.cursor()\n",
    "\n",
    "    # Nom de la table dans laquelle vous allez importer les données\n",
    "    table_name = \"activities\"\n",
    "\n",
    "    # Créer la table dans PostgreSQL\n",
    "    # Assurez-vous que les types de données correspondent à ceux de votre CSV\n",
    "    create_table_query = sql.SQL(\"\"\"\n",
    "    CREATE TABLE IF NOT EXISTS {} (\n",
    "    id SERIAL PRIMARY KEY,\n",
    "    name VARCHAR(255),\n",
    "    distance FLOAT,\n",
    "    moving_time INTEGER,\n",
    "    elapsed_time INTEGER,\n",
    "    total_elevation_gain FLOAT,\n",
    "    sport_type VARCHAR(255),\n",
    "    start_date TIMESTAMP,\n",
    "    start_date_local TIMESTAMP,\n",
    "    timezone VARCHAR(50),\n",
    "    achievement_count INTEGER,\n",
    "    kudos_count INTEGER,\n",
    "    gear_id VARCHAR(255),\n",
    "    start_latlng VARCHAR(50),\n",
    "    end_latlng VARCHAR(50),\n",
    "    average_speed FLOAT,\n",
    "    max_speed FLOAT,\n",
    "    average_cadence FLOAT,\n",
    "    average_temp FLOAT,\n",
    "    has_heartrate BOOLEAN,\n",
    "    average_heartrate FLOAT,\n",
    "    max_heartrate FLOAT,\n",
    "    elev_high FLOAT,\n",
    "    elev_low FLOAT,\n",
    "    pr_count INTEGER,\n",
    "    has_kudoed BOOLEAN,\n",
    "    average_watts FLOAT,\n",
    "    kilojoules FLOAT\n",
    ");\n",
    "\"\"\").format(sql.Identifier(table_name))\n",
    "\n",
    "    cur.execute(create_table_query)\n",
    "\n",
    "    # Insérer les données dans la table\n",
    "    for index, row in df.iterrows():\n",
    "        insert_query = sql.SQL(\"\"\"\n",
    "        INSERT INTO {} (\n",
    "            name, distance, moving_time, elapsed_time, total_elevation_gain,\n",
    "            sport_type, start_date, start_date_local, timezone, achievement_count,\n",
    "            kudos_count, gear_id, start_latlng, end_latlng, average_speed,\n",
    "            max_speed, average_cadence, average_temp, has_heartrate,\n",
    "            average_heartrate, max_heartrate, elev_high, elev_low, pr_count,\n",
    "            has_kudoed, average_watts, kilojoules\n",
    "        ) VALUES (\n",
    "        %s, %s, %s, %s, %s, %s, %s, %s, %s, %s, %s, %s, %s, %s, %s, %s, %s, %s, %s, %s, %s, %s, %s, %s, %s, %s, %s\n",
    "    )\n",
    "        \"\"\").format(sql.Identifier(table_name))\n",
    "\n",
    "        cur.execute(insert_query, (\n",
    "\n",
    "        row['name'], row['distance'], row['moving_time'], row['elapsed_time'],\n",
    "        row['total_elevation_gain'], row['sport_type'], row['start_date'],\n",
    "        row['start_date_local'], row['timezone'], row['achievement_count'],\n",
    "        row['kudos_count'], row['gear_id'], str(row['start_latlng']),\n",
    "        str(row['end_latlng']), row['average_speed'], row['max_speed'],\n",
    "        row['average_cadence'], row['average_temp'], row['has_heartrate'],\n",
    "        row['average_heartrate'], row['max_heartrate'], row['elev_high'],\n",
    "        row['elev_low'], row['pr_count'], row['has_kudoed'],\n",
    "        row['average_watts'], row['kilojoules']\n",
    "    ))\n",
    "\n",
    "    # Valider les changements\n",
    "    conn.commit()\n",
    "\n",
    "    # Fermer le curseur et la connexion\n",
    "    cur.close()\n",
    "    conn.close()\n",
    "\n",
    "    print(\"Données importées dans PostgreSQL ✅\")"
   ]
  },
  {
   "cell_type": "code",
   "execution_count": 3,
   "id": "8bfd097b",
   "metadata": {},
   "outputs": [
    {
     "name": "stdout",
     "output_type": "stream",
     "text": [
      "Données importées dans PostgreSQL ✅\n"
     ]
    }
   ],
   "source": [
    "host = \"localhost\"\n",
    "database = \"postgres\"\n",
    "user = \"arthurdercq\"\n",
    "password = \"qsdfgqsdfg\"\n",
    "port = \"5432\"\n",
    "\n",
    "\n",
    "store_df_in_postgresql(db_path=\"../data/strava_activities_clean_.csv\", host=host, database=database, user=user, password=password, port=port)"
   ]
  },
  {
   "cell_type": "markdown",
   "id": "38f8c2d3",
   "metadata": {},
   "source": [
    "## Mise à jour de la Database"
   ]
  },
  {
   "cell_type": "code",
   "execution_count": 4,
   "id": "009e2719",
   "metadata": {},
   "outputs": [],
   "source": [
    "import sys\n",
    "import os\n",
    "\n",
    "# Ajoute le chemin absolu du dossier projet au PATH\n",
    "sys.path.append(os.path.abspath(\"/Users/arthurdercq/code/Data Science/Garmin_Dashboard\"))\n"
   ]
  },
  {
   "cell_type": "code",
   "execution_count": null,
   "id": "eb08508e",
   "metadata": {},
   "outputs": [
    {
     "name": "stdout",
     "output_type": "stream",
     "text": [
      "Collecting sqlalchemy\n",
      "  Downloading sqlalchemy-2.0.41-cp310-cp310-macosx_11_0_arm64.whl (2.1 MB)\n",
      "\u001b[2K     \u001b[38;2;114;156;31m━━━━━━━━━━━━━━━━━━━━━━━━━━━━━━━━━━━━━━━━\u001b[0m \u001b[32m2.1/2.1 MB\u001b[0m \u001b[31m1.1 MB/s\u001b[0m eta \u001b[36m0:00:00\u001b[0mm eta \u001b[36m0:00:01\u001b[0m0:01\u001b[0m:01\u001b[0m0m\n",
      "\u001b[?25hRequirement already satisfied: psycopg2-binary in /Users/arthurdercq/.pyenv/versions/3.10.6/envs/lewagon/lib/python3.10/site-packages (2.9.4)\n",
      "Collecting typing-extensions>=4.6.0 (from sqlalchemy)\n",
      "  Downloading typing_extensions-4.14.1-py3-none-any.whl (43 kB)\n",
      "\u001b[2K     \u001b[38;2;114;156;31m━━━━━━━━━━━━━━━━━━━━━━━━━━━━━━━━━━━━━━━━\u001b[0m \u001b[32m43.9/43.9 kB\u001b[0m \u001b[31m1.6 MB/s\u001b[0m eta \u001b[36m0:00:00\u001b[0m[31m3.2 MB/s\u001b[0m eta \u001b[36m0:00:01\u001b[0m\n",
      "\u001b[?25hInstalling collected packages: typing-extensions, sqlalchemy\n",
      "  Attempting uninstall: typing-extensions\n",
      "    Found existing installation: typing_extensions 4.4.0\n",
      "    Uninstalling typing_extensions-4.4.0:\n",
      "      Successfully uninstalled typing_extensions-4.4.0\n",
      "Successfully installed sqlalchemy-2.0.41 typing-extensions-4.14.1\n",
      "\n",
      "\u001b[1m[\u001b[0m\u001b[34;49mnotice\u001b[0m\u001b[1;39;49m]\u001b[0m\u001b[39;49m A new release of pip is available: \u001b[0m\u001b[31;49m23.1.2\u001b[0m\u001b[39;49m -> \u001b[0m\u001b[32;49m25.1.1\u001b[0m\n",
      "\u001b[1m[\u001b[0m\u001b[34;49mnotice\u001b[0m\u001b[1;39;49m]\u001b[0m\u001b[39;49m To update, run: \u001b[0m\u001b[32;49mpip install --upgrade pip\u001b[0m\n"
     ]
    }
   ],
   "source": [
    "!pip install sqlalchemy psycopg2-binary"
   ]
  },
  {
   "cell_type": "code",
   "execution_count": null,
   "id": "4eb249c7",
   "metadata": {},
   "outputs": [],
   "source": [
    "from sqlalchemy import create_engine\n",
    "from eye_sight.strava.fetch_strava import update_strava_data\n",
    "from eye_sight.strava.clean_data import clean_data\n",
    "\n",
    "\n",
    "# 1 Charger les nouvelles données STRAVA\n",
    "new_data = update_strava_data()\n",
    "new_data_clean = clean_data(new_data)\n",
    "\n",
    "# 2 Connexion à la base PostgreSQL locale\n",
    "engine = create_engine(f\"postgresql://:<{user}><{password}>@{host}:{port}/<{database}>\")\n",
    "\n",
    "# Étape 1 : Récupérer les 10 derniers IDs présents dans la base\n",
    "with engine.connect() as conn:\n",
    "    result = conn.execute(\"SELECT id FROM activities ORDER BY id DESC LIMIT 10;\")\n",
    "    existing_ids = [row[0] for row in result]\n",
    "\n",
    "\n",
    "# Étape 3 : Filtrer uniquement les nouvelles activités\n",
    "filtered_data = new_data[~new_data['id'].isin(existing_ids)]\n",
    "\n",
    "# Étape 4 : Insérer dans la base\n",
    "if not filtered_data.empty:\n",
    "    filtered_data.to_sql('activities', engine, if_exists='append', index=False)\n",
    "    print(f\"{len(filtered_data)} nouvelles activités ajoutées.\")\n",
    "else:\n",
    "    print(\"Aucune nouvelle activité à ajouter.\")"
   ]
  },
  {
   "cell_type": "code",
   "execution_count": null,
   "id": "8ea89990",
   "metadata": {},
   "outputs": [],
   "source": []
  }
 ],
 "metadata": {
  "kernelspec": {
   "display_name": "lewagon",
   "language": "python",
   "name": "python3"
  },
  "language_info": {
   "codemirror_mode": {
    "name": "ipython",
    "version": 3
   },
   "file_extension": ".py",
   "mimetype": "text/x-python",
   "name": "python",
   "nbconvert_exporter": "python",
   "pygments_lexer": "ipython3",
   "version": "3.10.6"
  }
 },
 "nbformat": 4,
 "nbformat_minor": 5
}
