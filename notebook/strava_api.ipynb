{
 "cells": [
  {
   "cell_type": "code",
   "execution_count": 1,
   "metadata": {},
   "outputs": [],
   "source": [
    "import pandas as pd\n",
    "import requests\n",
    "import urllib3\n",
    "urllib3.disable_warnings(urllib3.exceptions.InsecureRequestWarning)\n",
    "from datetime import datetime\n",
    "import seaborn as sns\n",
    "import math\n",
    "import matplotlib.pyplot as plt\n",
    "import numpy as np\n",
    "import folium\n",
    "import json"
   ]
  },
  {
   "cell_type": "markdown",
   "metadata": {},
   "source": [
    "## Accès API Strava"
   ]
  },
  {
   "cell_type": "code",
   "execution_count": null,
   "metadata": {},
   "outputs": [
    {
     "name": "stdout",
     "output_type": "stream",
     "text": [
      "Requesting Token...\n",
      "\n",
      "Access Token = 3fc18bbd9ca1e8ab0ed64a395cab19879798f3cd\n",
      "\n",
      "Les données ont été sauvegardées dans ../data/strava_activities_raw_2025-07-29.csv\n"
     ]
    }
   ],
   "source": [
    "auth_url = \"https://www.strava.com/oauth/token\"\n",
    "activites_url = \"https://www.strava.com/api/v3/athlete/activities\"\n",
    "\n",
    "# Obtenir la date actuelle\n",
    "creation_date = datetime.now().strftime('%Y-%m-%d')\n",
    "\n",
    "payload = {\n",
    "    'client_id': \"114062\",\n",
    "    'client_secret': \"3ff69d1668764ef3f5ebdfbe71ecc04bf694d74c\",\n",
    "    'refresh_token': \"e4a08d7904a3eedba9782ee6aa7b8644898beaff\",\n",
    "    'grant_type': \"refresh_token\",\n",
    "    'f': 'json'\n",
    "}\n",
    "\n",
    "print(\"Requesting Token...\\n\")\n",
    "res = requests.post(auth_url, data=payload, verify=False)\n",
    "access_token = res.json()['access_token']\n",
    "print(\"Access Token = {}\\n\".format(access_token))\n",
    "\n",
    "header = {'Authorization': 'Bearer ' + access_token}\n",
    "#param = {'per_page': 200, 'page': 1}\n",
    "#my_dataset = requests.get(activites_url, headers=header, params=param).json()\n",
    "# Liste pour stocker toutes les activités\n",
    "all_activities = []\n",
    "\n",
    "# Boucle pour récupérer toutes les pages d'activités\n",
    "page = 1\n",
    "while True:\n",
    "    param = {'per_page': 200, 'page': page}\n",
    "    activities = requests.get(activites_url, headers=header, params=param).json()\n",
    "\n",
    "    # Si aucune activité n'est retournée, on arrête la boucle\n",
    "    if not activities:\n",
    "        break\n",
    "\n",
    "    # Ajout des activités à la liste\n",
    "    all_activities.extend(activities)\n",
    "\n",
    "    # Incrémentation du numéro de page\n",
    "    print(f\"📄 Page {page}…\")\n",
    "    page += 1\n",
    "\n",
    "# Conversion en DataFrame pandas\n",
    "activities_df = pd.DataFrame(all_activities)\n",
    "\n",
    "# Sauvegarde en fichier CSV\n",
    "csv_file_path = f'../data/strava_activities_raw_{creation_date}.csv'\n",
    "activities_df.to_csv(csv_file_path, index=False)\n",
    "\n",
    "print(f\"Les données ont été sauvegardées dans {csv_file_path}\")\n"
   ]
  },
  {
   "cell_type": "code",
   "execution_count": null,
   "metadata": {},
   "outputs": [],
   "source": []
  },
  {
   "cell_type": "markdown",
   "metadata": {},
   "source": [
    "## Refresh quotidien Données Strava ?"
   ]
  },
  {
   "cell_type": "code",
   "execution_count": null,
   "metadata": {},
   "outputs": [],
   "source": []
  },
  {
   "cell_type": "markdown",
   "metadata": {},
   "source": [
    "## Data exploration"
   ]
  },
  {
   "cell_type": "code",
   "execution_count": 3,
   "metadata": {},
   "outputs": [],
   "source": [
    "df_clean = pd.read_csv(\"../data/strava_activities_clean_.csv\")"
   ]
  },
  {
   "cell_type": "code",
   "execution_count": 11,
   "metadata": {},
   "outputs": [
    {
     "data": {
      "text/plain": [
       "RangeIndex(start=0, stop=616, step=1)"
      ]
     },
     "execution_count": 11,
     "metadata": {},
     "output_type": "execute_result"
    }
   ],
   "source": [
    "df_clean.index"
   ]
  },
  {
   "cell_type": "code",
   "execution_count": null,
   "metadata": {},
   "outputs": [],
   "source": []
  },
  {
   "cell_type": "code",
   "execution_count": null,
   "metadata": {},
   "outputs": [],
   "source": []
  },
  {
   "cell_type": "code",
   "execution_count": null,
   "metadata": {},
   "outputs": [
    {
     "data": {
      "text/html": [
       "<div>\n",
       "<style scoped>\n",
       "    .dataframe tbody tr th:only-of-type {\n",
       "        vertical-align: middle;\n",
       "    }\n",
       "\n",
       "    .dataframe tbody tr th {\n",
       "        vertical-align: top;\n",
       "    }\n",
       "\n",
       "    .dataframe thead th {\n",
       "        text-align: right;\n",
       "    }\n",
       "</style>\n",
       "<table border=\"1\" class=\"dataframe\">\n",
       "  <thead>\n",
       "    <tr style=\"text-align: right;\">\n",
       "      <th></th>\n",
       "      <th>resource_state</th>\n",
       "      <th>athlete</th>\n",
       "      <th>name</th>\n",
       "      <th>distance</th>\n",
       "      <th>moving_time</th>\n",
       "      <th>elapsed_time</th>\n",
       "      <th>total_elevation_gain</th>\n",
       "      <th>type</th>\n",
       "      <th>sport_type</th>\n",
       "      <th>workout_type</th>\n",
       "      <th>...</th>\n",
       "      <th>elev_high</th>\n",
       "      <th>elev_low</th>\n",
       "      <th>upload_id</th>\n",
       "      <th>upload_id_str</th>\n",
       "      <th>external_id</th>\n",
       "      <th>from_accepted_tag</th>\n",
       "      <th>pr_count</th>\n",
       "      <th>total_photo_count</th>\n",
       "      <th>has_kudoed</th>\n",
       "      <th>average_cadence</th>\n",
       "    </tr>\n",
       "  </thead>\n",
       "  <tbody>\n",
       "    <tr>\n",
       "      <th>0</th>\n",
       "      <td>2</td>\n",
       "      <td>{'id': 40727595, 'resource_state': 1}</td>\n",
       "      <td>Big moustache ?</td>\n",
       "      <td>37258.4</td>\n",
       "      <td>5694</td>\n",
       "      <td>6052</td>\n",
       "      <td>283.0</td>\n",
       "      <td>Ride</td>\n",
       "      <td>Ride</td>\n",
       "      <td>10.0</td>\n",
       "      <td>...</td>\n",
       "      <td>141.0</td>\n",
       "      <td>57.4</td>\n",
       "      <td>1.624303e+10</td>\n",
       "      <td>16243025075</td>\n",
       "      <td>garmin_ping_462010212174</td>\n",
       "      <td>False</td>\n",
       "      <td>3</td>\n",
       "      <td>3</td>\n",
       "      <td>False</td>\n",
       "      <td>NaN</td>\n",
       "    </tr>\n",
       "    <tr>\n",
       "      <th>1</th>\n",
       "      <td>2</td>\n",
       "      <td>{'id': 40727595, 'resource_state': 1}</td>\n",
       "      <td>Course à Dwight dans le Schrute</td>\n",
       "      <td>10017.0</td>\n",
       "      <td>2890</td>\n",
       "      <td>2893</td>\n",
       "      <td>75.0</td>\n",
       "      <td>Run</td>\n",
       "      <td>Run</td>\n",
       "      <td>0.0</td>\n",
       "      <td>...</td>\n",
       "      <td>90.4</td>\n",
       "      <td>56.2</td>\n",
       "      <td>1.622995e+10</td>\n",
       "      <td>16229954716</td>\n",
       "      <td>garmin_ping_461653472390</td>\n",
       "      <td>False</td>\n",
       "      <td>0</td>\n",
       "      <td>1</td>\n",
       "      <td>False</td>\n",
       "      <td>73.2</td>\n",
       "    </tr>\n",
       "  </tbody>\n",
       "</table>\n",
       "<p>2 rows × 54 columns</p>\n",
       "</div>"
      ],
      "text/plain": [
       "   resource_state                                athlete  \\\n",
       "0               2  {'id': 40727595, 'resource_state': 1}   \n",
       "1               2  {'id': 40727595, 'resource_state': 1}   \n",
       "\n",
       "                              name  distance  moving_time  elapsed_time  \\\n",
       "0                  Big moustache ?   37258.4         5694          6052   \n",
       "1  Course à Dwight dans le Schrute   10017.0         2890          2893   \n",
       "\n",
       "   total_elevation_gain  type sport_type  workout_type  ...  elev_high  \\\n",
       "0                 283.0  Ride       Ride          10.0  ...      141.0   \n",
       "1                  75.0   Run        Run           0.0  ...       90.4   \n",
       "\n",
       "  elev_low     upload_id upload_id_str               external_id  \\\n",
       "0     57.4  1.624303e+10   16243025075  garmin_ping_462010212174   \n",
       "1     56.2  1.622995e+10   16229954716  garmin_ping_461653472390   \n",
       "\n",
       "  from_accepted_tag pr_count total_photo_count  has_kudoed  average_cadence  \n",
       "0             False        3                 3       False              NaN  \n",
       "1             False        0                 1       False             73.2  \n",
       "\n",
       "[2 rows x 54 columns]"
      ]
     },
     "execution_count": 34,
     "metadata": {},
     "output_type": "execute_result"
    }
   ],
   "source": [
    "activities_df.head(2)"
   ]
  },
  {
   "cell_type": "code",
   "execution_count": null,
   "metadata": {},
   "outputs": [
    {
     "data": {
      "text/html": [
       "<div>\n",
       "<style scoped>\n",
       "    .dataframe tbody tr th:only-of-type {\n",
       "        vertical-align: middle;\n",
       "    }\n",
       "\n",
       "    .dataframe tbody tr th {\n",
       "        vertical-align: top;\n",
       "    }\n",
       "\n",
       "    .dataframe thead th {\n",
       "        text-align: right;\n",
       "    }\n",
       "</style>\n",
       "<table border=\"1\" class=\"dataframe\">\n",
       "  <thead>\n",
       "    <tr style=\"text-align: right;\">\n",
       "      <th></th>\n",
       "      <th>map</th>\n",
       "    </tr>\n",
       "  </thead>\n",
       "  <tbody>\n",
       "    <tr>\n",
       "      <th>0</th>\n",
       "      <td>{'id': 'a15219932005', 'summary_polyline': '{f...</td>\n",
       "    </tr>\n",
       "    <tr>\n",
       "      <th>1</th>\n",
       "      <td>{'id': 'a15210086165', 'summary_polyline': 'ci...</td>\n",
       "    </tr>\n",
       "    <tr>\n",
       "      <th>2</th>\n",
       "      <td>{'id': 'a15197835902', 'summary_polyline': 's|...</td>\n",
       "    </tr>\n",
       "    <tr>\n",
       "      <th>3</th>\n",
       "      <td>{'id': 'a15184146738', 'summary_polyline': 's~...</td>\n",
       "    </tr>\n",
       "    <tr>\n",
       "      <th>4</th>\n",
       "      <td>{'id': 'a15163453200', 'summary_polyline': 'wv...</td>\n",
       "    </tr>\n",
       "    <tr>\n",
       "      <th>...</th>\n",
       "      <td>...</td>\n",
       "    </tr>\n",
       "    <tr>\n",
       "      <th>608</th>\n",
       "      <td>{'id': 'a2596458576', 'summary_polyline': '{gp...</td>\n",
       "    </tr>\n",
       "    <tr>\n",
       "      <th>609</th>\n",
       "      <td>{'id': 'a2589310060', 'summary_polyline': 'mho...</td>\n",
       "    </tr>\n",
       "    <tr>\n",
       "      <th>610</th>\n",
       "      <td>{'id': 'a2583989594', 'summary_polyline': '{mg...</td>\n",
       "    </tr>\n",
       "    <tr>\n",
       "      <th>611</th>\n",
       "      <td>{'id': 'a2332672484', 'summary_polyline': 'sip...</td>\n",
       "    </tr>\n",
       "    <tr>\n",
       "      <th>612</th>\n",
       "      <td>{'id': 'a2268997997', 'summary_polyline': 'sgp...</td>\n",
       "    </tr>\n",
       "  </tbody>\n",
       "</table>\n",
       "<p>613 rows × 1 columns</p>\n",
       "</div>"
      ],
      "text/plain": [
       "                                                   map\n",
       "0    {'id': 'a15219932005', 'summary_polyline': '{f...\n",
       "1    {'id': 'a15210086165', 'summary_polyline': 'ci...\n",
       "2    {'id': 'a15197835902', 'summary_polyline': 's|...\n",
       "3    {'id': 'a15184146738', 'summary_polyline': 's~...\n",
       "4    {'id': 'a15163453200', 'summary_polyline': 'wv...\n",
       "..                                                 ...\n",
       "608  {'id': 'a2596458576', 'summary_polyline': '{gp...\n",
       "609  {'id': 'a2589310060', 'summary_polyline': 'mho...\n",
       "610  {'id': 'a2583989594', 'summary_polyline': '{mg...\n",
       "611  {'id': 'a2332672484', 'summary_polyline': 'sip...\n",
       "612  {'id': 'a2268997997', 'summary_polyline': 'sgp...\n",
       "\n",
       "[613 rows x 1 columns]"
      ]
     },
     "execution_count": 5,
     "metadata": {},
     "output_type": "execute_result"
    }
   ],
   "source": [
    "activities_df[[\"map\"]]"
   ]
  },
  {
   "cell_type": "code",
   "execution_count": 8,
   "metadata": {},
   "outputs": [],
   "source": [
    "activities_df[\"map\"] = activities_df[\"map\"].apply(json.dumps)\n"
   ]
  },
  {
   "cell_type": "code",
   "execution_count": null,
   "metadata": {},
   "outputs": [],
   "source": [
    "activities_df[[\"map\"]].info"
   ]
  },
  {
   "cell_type": "code",
   "execution_count": null,
   "metadata": {},
   "outputs": [],
   "source": []
  },
  {
   "cell_type": "code",
   "execution_count": null,
   "metadata": {},
   "outputs": [],
   "source": [
    "activities_df.columns"
   ]
  },
  {
   "cell_type": "code",
   "execution_count": null,
   "metadata": {},
   "outputs": [],
   "source": [
    "activities_df[['sport_type','average_speed', 'max_speed', 'average_temp']]"
   ]
  },
  {
   "cell_type": "code",
   "execution_count": null,
   "metadata": {},
   "outputs": [
    {
     "data": {
      "text/plain": [
       "612"
      ]
     },
     "execution_count": 38,
     "metadata": {},
     "output_type": "execute_result"
    }
   ],
   "source": [
    "activities_df['id'].nunique()"
   ]
  },
  {
   "cell_type": "code",
   "execution_count": null,
   "metadata": {},
   "outputs": [],
   "source": [
    "# Sélection des cinq premières lignes du DataFrame\n",
    "first_five_activities = activities_df.head(5)\n",
    "\n",
    "# Transposition du DataFrame pour afficher les colonnes comme des lignes\n",
    "transposed_activities = first_five_activities.transpose()\n",
    "\n",
    "# Affichage du DataFrame transposé\n",
    "transposed_activities"
   ]
  },
  {
   "cell_type": "markdown",
   "metadata": {},
   "source": [
    "## Data Cleaning\n",
    "1. Supprimer colonnes non pertinentes\n",
    "2. Renommer les colonnes pertinentes\n",
    "3. Pour chaque colonne, adapter le contenu (temps, catégoriser avec les bons noms)\n",
    "  A. Date en datetime\n",
    "  B. temps en Km/h ET min/km\n",
    "4. Ajouter une colonne qui combine Trail & CAP"
   ]
  },
  {
   "cell_type": "code",
   "execution_count": 5,
   "metadata": {},
   "outputs": [],
   "source": [
    "activities_df = pd.read_csv(\"/Users/arthurdercq/code/Data Science/Garmin_Dashboard/data/strava_activities_raw_2025-07-29.csv\")"
   ]
  },
  {
   "cell_type": "code",
   "execution_count": 6,
   "metadata": {},
   "outputs": [],
   "source": [
    "# Liste des colonnes à supprimer\n",
    "columns_to_drop = [\n",
    "    'resource_state', 'athlete', 'type', 'workout_type', 'utc_offset',\n",
    "    'location_city', 'location_state', 'location_country', 'comment_count',\n",
    "    'athlete_count', 'photo_count', 'trainer', 'commute', 'manual',\n",
    "    'private', 'visibility', 'flagged', 'device_watts', 'heartrate_opt_out',\n",
    "    'display_hide_heartrate_option', 'upload_id', 'upload_id_str', 'external_id',\n",
    "    'from_accepted_tag', 'total_photo_count'\n",
    "]\n",
    "\n",
    "# Suppression des colonnes du DataFrame\n",
    "activities_df_cleaned = activities_df.drop(columns=columns_to_drop)\n",
    "\n",
    "\n",
    "# Conversion de la colonne 'distance' de mètres en kilomètres\n",
    "activities_df_cleaned['distance'] = activities_df_cleaned['distance'] / 1000\n",
    "# Définir la colonne 'id' comme index\n",
    "activities_df_cleaned = activities_df_cleaned.set_index('id')\n",
    "\n",
    "# Conversion des colonnes 'moving_time' et 'elapsed_time' de secondes en minutes\n",
    "activities_df_cleaned['moving_time'] = activities_df_cleaned['moving_time'] / 60\n",
    "activities_df_cleaned['elapsed_time'] = activities_df_cleaned['elapsed_time'] / 60\n",
    "# Conversion de la colonne 'average_speed' de mètres par seconde en kilomètres par heure\n",
    "activities_df_cleaned['average_speed'] = activities_df_cleaned['average_speed'] * 3.6\n",
    "activities_df_cleaned['max_speed'] = activities_df_cleaned['max_speed'] * 3.6\n",
    "# Ajouter une nouvelle colonne 'minutes_per_km' qui convertit 'average_speed' en minutes par kilomètre\n",
    "activities_df_cleaned['speed_minutes_per_km'] = 60 / activities_df_cleaned['average_speed']\n",
    "\n",
    "def convert_minutes_to_hms(minutes):\n",
    "\n",
    "    if minutes is None or not isinstance(minutes, (int, float)):\n",
    "        return \"00:00:00\"\n",
    "    if minutes < 0:\n",
    "        minutes = abs(minutes)\n",
    "\n",
    "    total_seconds = int(minutes * 60)\n",
    "    h = total_seconds // 3600\n",
    "    remainder = total_seconds % 3600\n",
    "    m = remainder // 60\n",
    "    s = remainder % 60\n",
    "    return f\"{h:02}:{m:02}:{s:02}\"\n",
    "\n",
    "# Ajouter une nouvelle colonne avec le format HH:MM:SS pour 'moving_time'\n",
    "activities_df_cleaned['moving_time_hms'] = activities_df_cleaned['moving_time'].apply(convert_minutes_to_hms)\n",
    "\n",
    "# Ajouter une nouvelle colonne avec le format HH:MM:SS pour 'elapsed_time'\n",
    "activities_df_cleaned['elapsed_time_hms'] = activities_df_cleaned['elapsed_time'].apply(convert_minutes_to_hms)\n",
    "total_hours = activities_df['moving_time'].sum()\n",
    "total_hours\n",
    "convert_minutes_to_hms(total_hours)\n",
    "\n",
    "# Sauvegarde en fichier CSV\n",
    "csv_file_path_clean = '../data/strava_activities_clean_.csv'\n",
    "activities_df_cleaned.to_csv(csv_file_path_clean, index=False)"
   ]
  },
  {
   "cell_type": "code",
   "execution_count": 7,
   "metadata": {},
   "outputs": [
    {
     "data": {
      "text/plain": [
       "name                     object\n",
       "distance                float64\n",
       "moving_time             float64\n",
       "elapsed_time            float64\n",
       "total_elevation_gain    float64\n",
       "sport_type               object\n",
       "start_date               object\n",
       "start_date_local         object\n",
       "timezone                 object\n",
       "achievement_count         int64\n",
       "kudos_count               int64\n",
       "map                      object\n",
       "gear_id                  object\n",
       "start_latlng             object\n",
       "end_latlng               object\n",
       "average_speed           float64\n",
       "max_speed               float64\n",
       "average_temp            float64\n",
       "average_watts           float64\n",
       "kilojoules              float64\n",
       "has_heartrate              bool\n",
       "average_heartrate       float64\n",
       "max_heartrate           float64\n",
       "elev_high               float64\n",
       "elev_low                float64\n",
       "pr_count                  int64\n",
       "has_kudoed                 bool\n",
       "average_cadence         float64\n",
       "speed_minutes_per_km    float64\n",
       "moving_time_hms          object\n",
       "elapsed_time_hms         object\n",
       "dtype: object"
      ]
     },
     "execution_count": 7,
     "metadata": {},
     "output_type": "execute_result"
    }
   ],
   "source": [
    "activities_df_cleaned.dtypes"
   ]
  },
  {
   "cell_type": "code",
   "execution_count": 6,
   "metadata": {},
   "outputs": [],
   "source": [
    "csv_file_path_clean = '../data/strava_activities_clean_.csv'\n",
    "df_clean = pd.read_csv(csv_file_path_clean)"
   ]
  },
  {
   "cell_type": "code",
   "execution_count": 7,
   "metadata": {},
   "outputs": [
    {
     "name": "stdout",
     "output_type": "stream",
     "text": [
      "moving_time            828.016667\n",
      "elapsed_time         71668.683333\n",
      "achievement_count      200.000000\n",
      "kudos_count             36.000000\n",
      "pr_count               107.000000\n",
      "dtype: float64\n"
     ]
    }
   ],
   "source": [
    "print(df_clean[['moving_time', 'elapsed_time', 'achievement_count', 'kudos_count', 'pr_count']].max())\n"
   ]
  },
  {
   "cell_type": "markdown",
   "metadata": {},
   "source": [
    "## Graphs\n",
    "\n",
    "Qu'est ce que je veux montrer ? (Proposer une vision hebdo, mensuelle et annuelle)\n",
    "\n",
    "- Volume hebomadaire\n",
    "- D+ hebdo\n",
    "- Répartition trail / CAP, vélo\n",
    "- \n"
   ]
  },
  {
   "cell_type": "code",
   "execution_count": null,
   "metadata": {},
   "outputs": [],
   "source": []
  },
  {
   "cell_type": "code",
   "execution_count": null,
   "metadata": {},
   "outputs": [],
   "source": [
    "def filtrer_trail_runs(df):\n",
    "    # Colonnes à garder\n",
    "    colonnes = [\"name\", \"moving_time\", \"distance\", \"total_elevation_gain\", \"sport_type\"]\n",
    "\n",
    "    # Filtrer les colonnes si elles existent dans le DataFrame\n",
    "    df = df[[col for col in colonnes if col in df.columns]]\n",
    "\n",
    "    # Garder uniquement les lignes où sport_type est \"TrailRun\"\n",
    "    df_filtré = df[df[\"sport_type\"] == \"TrailRun\"]\n",
    "\n",
    "    # Supprimer la colonne \"sport_type\" si tu ne veux plus l’avoir ensuite\n",
    "    df_filtré = df_filtré.drop(columns=\"sport_type\")\n",
    "\n",
    "    return df_filtré\n"
   ]
  },
  {
   "cell_type": "code",
   "execution_count": null,
   "metadata": {},
   "outputs": [],
   "source": [
    "def plot_elevations(df, output_file=\"../plots/elevations.png\"):\n",
    "    # Create a new figure\n",
    "    plt.figure()\n",
    "\n",
    "    # Compute activity start times (for facet ordering)\n",
    "    start_times = (\n",
    "        df.groupby(\"name\").agg({\"moving_time\": \"min\"}).reset_index().sort_values(\"moving_time\")\n",
    "    )\n",
    "    ncol = math.ceil(math.sqrt(len(start_times)))\n",
    "\n",
    "    # Create facets\n",
    "    p = sns.FacetGrid(\n",
    "        data=df,\n",
    "        col=\"name\",\n",
    "        col_wrap=ncol,\n",
    "        col_order=start_times[\"name\"],\n",
    "        sharex=False,\n",
    "        sharey=True,\n",
    "    )\n",
    "\n",
    "    # Add activities\n",
    "    p = p.map(plt.plot, \"distance\", \"total_elevation_gain\", color=\"black\", linewidth=4)\n",
    "\n",
    "    # Update plot aesthetics\n",
    "    p.set(xlabel=None)\n",
    "    p.set(ylabel=None)\n",
    "    p.set(xticks=[])\n",
    "    p.set(yticks=[])\n",
    "    p.set(xticklabels=[])\n",
    "    p.set(yticklabels=[])\n",
    "    p.set_titles(col_template=\"\", row_template=\"\")\n",
    "    sns.despine(left=True, bottom=True)\n",
    "    plt.subplots_adjust(left=0.05, bottom=0.05, right=0.95, top=0.95)\n",
    "    plt.savefig(output_file)\n",
    "    plt.close()"
   ]
  },
  {
   "cell_type": "code",
   "execution_count": null,
   "metadata": {},
   "outputs": [],
   "source": [
    "de_plot_elev = filtrer_trail_runs(activities_df_cleaned)\n",
    "plot_elevations(activities_df_cleaned)"
   ]
  },
  {
   "cell_type": "code",
   "execution_count": null,
   "metadata": {},
   "outputs": [],
   "source": []
  },
  {
   "cell_type": "code",
   "execution_count": null,
   "metadata": {},
   "outputs": [],
   "source": [
    "# select one activity\n",
    "my_ride = activities_df_cleaned.iloc[0, :] # first activity (most recent)\n",
    "# plot ride on map\n",
    "centroid = [\n",
    "    np.mean([coord[0] for coord in my_ride['map.polyline'][0]]),\n",
    "    np.mean([coord[1] for coord in my_ride['map.polyline'][0]])\n",
    "]\n",
    "m = folium.Map(location=centroid, zoom_start=10)\n",
    "folium.PolyLine(my_ride['map.polyline'], color='red').add_to(m)\n",
    "display(m)"
   ]
  },
  {
   "cell_type": "code",
   "execution_count": null,
   "metadata": {},
   "outputs": [],
   "source": []
  },
  {
   "cell_type": "code",
   "execution_count": null,
   "metadata": {},
   "outputs": [],
   "source": []
  },
  {
   "cell_type": "code",
   "execution_count": null,
   "metadata": {},
   "outputs": [],
   "source": []
  }
 ],
 "metadata": {
  "kernelspec": {
   "display_name": "lewagon",
   "language": "python",
   "name": "python3"
  },
  "language_info": {
   "codemirror_mode": {
    "name": "ipython",
    "version": 3
   },
   "file_extension": ".py",
   "mimetype": "text/x-python",
   "name": "python",
   "nbconvert_exporter": "python",
   "pygments_lexer": "ipython3",
   "version": "3.10.6"
  },
  "orig_nbformat": 4
 },
 "nbformat": 4,
 "nbformat_minor": 2
}
